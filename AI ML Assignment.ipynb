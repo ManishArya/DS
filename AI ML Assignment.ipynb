{
 "cells": [
  {
   "cell_type": "code",
   "execution_count": null,
   "id": "57f6cfec",
   "metadata": {},
   "outputs": [],
   "source": [
    "from PyPDF2 import PdfReader\n",
    "\n",
    "reader = PdfReader('budget_speech.pdf')\n",
    "texts= ''\n",
    "for i, page in enumerate(reader.pages):\n",
    "    content = page.extract_text()\n",
    "    if content:\n",
    "        texts += content\n",
    "print(texts)"
   ]
  },
  {
   "cell_type": "code",
   "execution_count": null,
   "id": "2e675e50",
   "metadata": {},
   "outputs": [],
   "source": [
    "from langchain.text_splitter import RecursiveCharacterTextSplitter\n",
    "textSplitter = RecursiveCharacterTextSplitter(\n",
    "    chunk_size = 1000,\n",
    "    chunk_overlap = 200,\n",
    "    length_function = len\n",
    ")\n",
    "\n",
    "chunks = textSplitter.split_text(texts)\n",
    "len(chunks)\n"
   ]
  },
  {
   "cell_type": "code",
   "execution_count": null,
   "id": "c20a3f8c",
   "metadata": {},
   "outputs": [],
   "source": [
    "import os\n",
    "from langchain_huggingface.embeddings import HuggingFaceEmbeddings\n",
    "from langchain_pinecone import Pinecone\n",
    "os.environ['OPENAI_API_KEY'] = \"Refresh to generate token\"\n",
    "os.environ['PINECONE_API_KEY'] = \"\"\n",
    "embeddings = HuggingFaceEmbeddings()\n",
    "docsearch = Pinecone.from_texts(texts= chunks, embedding= embeddings, index_name = \"testindex\")\n",
    "results = docsearch.similarity_search(\"At what point did Sensex close?\")\n",
    "print(results)\n"
   ]
  }
 ],
 "metadata": {
  "kernelspec": {
   "display_name": "Python 3 (ipykernel)",
   "language": "python",
   "name": "python3"
  },
  "language_info": {
   "codemirror_mode": {
    "name": "ipython",
    "version": 3
   },
   "file_extension": ".py",
   "mimetype": "text/x-python",
   "name": "python",
   "nbconvert_exporter": "python",
   "pygments_lexer": "ipython3",
   "version": "3.10.9"
  }
 },
 "nbformat": 4,
 "nbformat_minor": 5
}
